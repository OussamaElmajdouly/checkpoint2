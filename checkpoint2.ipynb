{
 "cells": [
  {
   "cell_type": "code",
   "execution_count": 2,
   "id": "3d05e795",
   "metadata": {},
   "outputs": [
    {
     "name": "stdout",
     "output_type": "stream",
     "text": [
      "donnez votre prénom :ousama\n",
      "donnez votre nom :elmajdouly\n",
      "nom elmajdouly\n",
      "prénom ousama\n"
     ]
    }
   ],
   "source": [
    "str1=input(\"donnez votre prénom :\")\n",
    "str2=input(\"donnez votre nom :\")\n",
    "print(str2,\" \",str1)\n"
   ]
  },
  {
   "cell_type": "code",
   "execution_count": null,
   "id": "505cebe1",
   "metadata": {},
   "outputs": [],
   "source": [
    "str1=input(\"entrer un seul chiffre :\")\n",
    "str2=input(\"entrer le chiffre deux fois :\")\n",
    "str3=input(\"entrer le chiffre trois fois :\")\n",
    "str4=int(str1)+int(str2)+int(str3)\n",
    "str4\n"
   ]
  },
  {
   "cell_type": "code",
   "execution_count": null,
   "id": "03f339aa",
   "metadata": {},
   "outputs": [],
   "source": [
    "str1=int(input(\"donnez un nombre :\"))\n",
    "if str1%2==0:\n",
    "    print(\"le nombre est pair\")\n",
    "else:\n",
    "    print(\"le nombre est impair\")"
   ]
  },
  {
   "cell_type": "code",
   "execution_count": 12,
   "id": "fe2d4e51",
   "metadata": {},
   "outputs": [
    {
     "name": "stdout",
     "output_type": "stream",
     "text": [
      "2002,2009,2016,2023,2037,2044,2051,2058,2072,2079,2086,2093,2107,2114,2121,2128,2142,2149,2156,2163,2177,2184,2191,2198,2212,2219,2226,2233,2247,2254,2261,2268,2282,2289,2296,2303,2317,2324,2331,2338,2352,2359,2366,2373,2387,2394,2401,2408,2422,2429,2436,2443,2457,2464,2471,2478,2492,2499,2506,2513,2527,2534,2541,2548,2562,2569,2576,2583,2597,2604,2611,2618,2632,2639,2646,2653,2667,2674,2681,2688,2702,2709,2716,2723,2737,2744,2751,2758,2772,2779,2786,2793,2807,2814,2821,2828,2842,2849,2856,2863,2877,2884,2891,2898,2912,2919,2926,2933,2947,2954,2961,2968,2982,2989,2996,3003,3017,3024,3031,3038,3052,3059,3066,3073,3087,3094,3101,3108,3122,3129,3136,3143,3157,3164,3171,3178,3192,3199,"
     ]
    }
   ],
   "source": [
    "for i in range(2000 , 3201):\n",
    "    if i%7==0 and i%5!=0:\n",
    "        print(i , end=\",\")\n",
    "   "
   ]
  },
  {
   "cell_type": "code",
   "execution_count": 15,
   "id": "2ddce80d",
   "metadata": {},
   "outputs": [
    {
     "name": "stdout",
     "output_type": "stream",
     "text": [
      "donnez un nombre : 3\n"
     ]
    },
    {
     "data": {
      "text/plain": [
       "6"
      ]
     },
     "execution_count": 15,
     "metadata": {},
     "output_type": "execute_result"
    }
   ],
   "source": [
    "str1=int(input(\"donnez un nombre : \"))\n",
    "str2=1\n",
    "if str1==0 or str1==1:\n",
    "    print(\"1\")\n",
    "else:\n",
    "    for i in range(1,str1+1):\n",
    "        str2=str2*i\n",
    "str2\n"
   ]
  },
  {
   "cell_type": "code",
   "execution_count": 23,
   "id": "a5955029",
   "metadata": {},
   "outputs": [
    {
     "name": "stdout",
     "output_type": "stream",
     "text": [
      "entrez quelque chose : oussama\n"
     ]
    },
    {
     "data": {
      "text/plain": [
       "'osaa'"
      ]
     },
     "execution_count": 23,
     "metadata": {},
     "output_type": "execute_result"
    }
   ],
   "source": [
    "str1=input(\"entrez quelque chose : \")\n",
    "h =\"\"\n",
    "for i in range(len(str1)):\n",
    "    if i%2==0:\n",
    "        h = h+str1[i]\n",
    "h\n",
    "       "
   ]
  },
  {
   "cell_type": "code",
   "execution_count": 27,
   "id": "4d3389a0",
   "metadata": {},
   "outputs": [
    {
     "name": "stdout",
     "output_type": "stream",
     "text": [
      "entrez le prix 2002\n"
     ]
    },
    {
     "data": {
      "text/plain": [
       "1001.0"
      ]
     },
     "execution_count": 27,
     "metadata": {},
     "output_type": "execute_result"
    }
   ],
   "source": [
    "str1=float(input(\"entrez le prix \"))\n",
    "if str1>=500:\n",
    "    str1=str1-str1*50/100\n",
    "elif str1>=200 and str1<500:\n",
    "    str1=str1-str1*30/100\n",
    "else:\n",
    "    str1=str1-str1*10/100\n",
    "str1\n"
   ]
  },
  {
   "cell_type": "code",
   "execution_count": null,
   "id": "f565b601",
   "metadata": {},
   "outputs": [],
   "source": []
  }
 ],
 "metadata": {
  "kernelspec": {
   "display_name": "Python 3 (ipykernel)",
   "language": "python",
   "name": "python3"
  },
  "language_info": {
   "codemirror_mode": {
    "name": "ipython",
    "version": 3
   },
   "file_extension": ".py",
   "mimetype": "text/x-python",
   "name": "python",
   "nbconvert_exporter": "python",
   "pygments_lexer": "ipython3",
   "version": "3.9.12"
  }
 },
 "nbformat": 4,
 "nbformat_minor": 5
}
